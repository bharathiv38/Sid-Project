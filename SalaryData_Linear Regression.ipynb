{
 "cells": [
  {
   "cell_type": "code",
   "execution_count": 39,
   "id": "5b33f86e",
   "metadata": {},
   "outputs": [],
   "source": [
    "# Importing libraries\n",
    "\n",
    "import numpy as np\n",
    "\n",
    "import pandas as pd\n",
    "\n",
    "from sklearn.model_selection import train_test_split\n",
    "\n",
    "import matplotlib.pyplot as plt\n",
    "\n",
    "# Linear Regression\n",
    "\n",
    "class LinearRegression() :\n",
    "\t\n",
    "\tdef __init__( self, learning_rate, iterations ) :\n",
    "\t\t\n",
    "\t\tself.learning_rate = learning_rate\n",
    "\t\t\n",
    "\t\tself.iterations = iterations\n",
    "\t\t\n",
    "\t# Function for model training\n",
    "\t\t\t\n",
    "\tdef fit( self, X, Y ) :\n",
    "\t\t\n",
    "\t\t# no_of_training_examples, no_of_features\n",
    "\t\t\n",
    "\t\tself.m, self.n = X.shape\n",
    "\t\t\n",
    "\t\t# weight initialization\n",
    "\t\t\n",
    "\t\tself.W = np.zeros( self.n )\n",
    "\t\t\n",
    "\t\tself.b = 0\n",
    "\t\t\n",
    "\t\tself.X = X\n",
    "\t\t\n",
    "\t\tself.Y = Y\n",
    "\t\t\n",
    "\t\t\n",
    "\t\t# gradient descent learning\n",
    "\t\t\t\t\n",
    "\t\tfor i in range( self.iterations ) :\n",
    "\t\t\t\n",
    "\t\t\tself.update_weights()\n",
    "\t\t\t\n",
    "\t\treturn self\n",
    "\t\n",
    "\t# Helper function to update weights in gradient descent\n",
    "\t\n",
    "\tdef update_weights( self ) :\n",
    "\t\t\t\n",
    "\t\tY_pred = self.predict( self.X )\n",
    "\t\t\n",
    "\t\t# calculate gradients\n",
    "\t\n",
    "\t\tdW = - ( 2 * ( self.X.T ).dot( self.Y - Y_pred ) ) / self.m\n",
    "\t\n",
    "\t\tdb = - 2 * np.sum( self.Y - Y_pred ) / self.m\n",
    "\t\t\n",
    "\t\t# update weights\n",
    "\t\n",
    "\t\tself.W = self.W - self.learning_rate * dW\n",
    "\t\n",
    "\t\tself.b = self.b - self.learning_rate * db\n",
    "\t\t\n",
    "\t\treturn self\n",
    "\t\n",
    "\t# Hypothetical function h( x )\n",
    "\t\n",
    "\tdef predict( self, X ) :\n",
    "\t\n",
    "\t\treturn X.dot( self.W ) + self.b\n",
    "\t\n"
   ]
  },
  {
   "cell_type": "code",
   "execution_count": 40,
   "id": "dab7a698",
   "metadata": {},
   "outputs": [],
   "source": [
    "#lets import libraries\n",
    "import pandas as pd\n",
    "import numpy as np\n",
    "import matplotlib.pyplot as plt\n",
    "from sklearn.model_selection import train_test_split\n"
   ]
  },
  {
   "cell_type": "markdown",
   "id": "b6b1077c",
   "metadata": {},
   "source": [
    "# Data Pre - Processing"
   ]
  },
  {
   "cell_type": "code",
   "execution_count": 41,
   "id": "200228c6",
   "metadata": {},
   "outputs": [],
   "source": [
    "#loading dataset from csv file to pandas dataframe\n",
    "salary_date = pd.read_csv(r\"C:\\Users\\bharathi.v04\\Downloads\\DS\\Salary_Data.csv\")"
   ]
  },
  {
   "cell_type": "code",
   "execution_count": 42,
   "id": "6dfe0d14",
   "metadata": {},
   "outputs": [
    {
     "data": {
      "text/html": [
       "<div>\n",
       "<style scoped>\n",
       "    .dataframe tbody tr th:only-of-type {\n",
       "        vertical-align: middle;\n",
       "    }\n",
       "\n",
       "    .dataframe tbody tr th {\n",
       "        vertical-align: top;\n",
       "    }\n",
       "\n",
       "    .dataframe thead th {\n",
       "        text-align: right;\n",
       "    }\n",
       "</style>\n",
       "<table border=\"1\" class=\"dataframe\">\n",
       "  <thead>\n",
       "    <tr style=\"text-align: right;\">\n",
       "      <th></th>\n",
       "      <th>YearsExperience</th>\n",
       "      <th>Salary</th>\n",
       "    </tr>\n",
       "  </thead>\n",
       "  <tbody>\n",
       "    <tr>\n",
       "      <th>0</th>\n",
       "      <td>1.1</td>\n",
       "      <td>39343.0</td>\n",
       "    </tr>\n",
       "    <tr>\n",
       "      <th>1</th>\n",
       "      <td>1.3</td>\n",
       "      <td>46205.0</td>\n",
       "    </tr>\n",
       "    <tr>\n",
       "      <th>2</th>\n",
       "      <td>1.5</td>\n",
       "      <td>37731.0</td>\n",
       "    </tr>\n",
       "    <tr>\n",
       "      <th>3</th>\n",
       "      <td>2.0</td>\n",
       "      <td>43525.0</td>\n",
       "    </tr>\n",
       "    <tr>\n",
       "      <th>4</th>\n",
       "      <td>2.2</td>\n",
       "      <td>39891.0</td>\n",
       "    </tr>\n",
       "  </tbody>\n",
       "</table>\n",
       "</div>"
      ],
      "text/plain": [
       "   YearsExperience   Salary\n",
       "0              1.1  39343.0\n",
       "1              1.3  46205.0\n",
       "2              1.5  37731.0\n",
       "3              2.0  43525.0\n",
       "4              2.2  39891.0"
      ]
     },
     "execution_count": 42,
     "metadata": {},
     "output_type": "execute_result"
    }
   ],
   "source": [
    "#print the first 5 columns of dataset\n",
    "salary_date.head()"
   ]
  },
  {
   "cell_type": "code",
   "execution_count": 43,
   "id": "16c11389",
   "metadata": {},
   "outputs": [
    {
     "data": {
      "text/html": [
       "<div>\n",
       "<style scoped>\n",
       "    .dataframe tbody tr th:only-of-type {\n",
       "        vertical-align: middle;\n",
       "    }\n",
       "\n",
       "    .dataframe tbody tr th {\n",
       "        vertical-align: top;\n",
       "    }\n",
       "\n",
       "    .dataframe thead th {\n",
       "        text-align: right;\n",
       "    }\n",
       "</style>\n",
       "<table border=\"1\" class=\"dataframe\">\n",
       "  <thead>\n",
       "    <tr style=\"text-align: right;\">\n",
       "      <th></th>\n",
       "      <th>YearsExperience</th>\n",
       "      <th>Salary</th>\n",
       "    </tr>\n",
       "  </thead>\n",
       "  <tbody>\n",
       "    <tr>\n",
       "      <th>25</th>\n",
       "      <td>9.0</td>\n",
       "      <td>105582.0</td>\n",
       "    </tr>\n",
       "    <tr>\n",
       "      <th>26</th>\n",
       "      <td>9.5</td>\n",
       "      <td>116969.0</td>\n",
       "    </tr>\n",
       "    <tr>\n",
       "      <th>27</th>\n",
       "      <td>9.6</td>\n",
       "      <td>112635.0</td>\n",
       "    </tr>\n",
       "    <tr>\n",
       "      <th>28</th>\n",
       "      <td>10.3</td>\n",
       "      <td>122391.0</td>\n",
       "    </tr>\n",
       "    <tr>\n",
       "      <th>29</th>\n",
       "      <td>10.5</td>\n",
       "      <td>121872.0</td>\n",
       "    </tr>\n",
       "  </tbody>\n",
       "</table>\n",
       "</div>"
      ],
      "text/plain": [
       "    YearsExperience    Salary\n",
       "25              9.0  105582.0\n",
       "26              9.5  116969.0\n",
       "27              9.6  112635.0\n",
       "28             10.3  122391.0\n",
       "29             10.5  121872.0"
      ]
     },
     "execution_count": 43,
     "metadata": {},
     "output_type": "execute_result"
    }
   ],
   "source": [
    "#print the last 5 rows of datafram\n",
    "salary_date.tail()"
   ]
  },
  {
   "cell_type": "code",
   "execution_count": 44,
   "id": "ee66b0b8",
   "metadata": {},
   "outputs": [
    {
     "data": {
      "text/plain": [
       "(30, 2)"
      ]
     },
     "execution_count": 44,
     "metadata": {},
     "output_type": "execute_result"
    }
   ],
   "source": [
    "#print the no. of rows and columns in dataframe\n",
    "salary_date.shape"
   ]
  },
  {
   "cell_type": "code",
   "execution_count": 45,
   "id": "9dfc7267",
   "metadata": {},
   "outputs": [
    {
     "data": {
      "text/plain": [
       "YearsExperience    0\n",
       "Salary             0\n",
       "dtype: int64"
      ]
     },
     "execution_count": 45,
     "metadata": {},
     "output_type": "execute_result"
    }
   ],
   "source": [
    "#finding out missing values in dataset\n",
    "salary_date.isnull().sum()"
   ]
  },
  {
   "cell_type": "markdown",
   "id": "15a3a50b",
   "metadata": {},
   "source": [
    "# Splitting the feature & target"
   ]
  },
  {
   "cell_type": "code",
   "execution_count": 46,
   "id": "e7637dd6",
   "metadata": {},
   "outputs": [],
   "source": [
    "X = salary_date.iloc[:,:-1].values\n",
    "Y = salary_date.iloc[:,1].values"
   ]
  },
  {
   "cell_type": "code",
   "execution_count": 47,
   "id": "b89974d9",
   "metadata": {},
   "outputs": [
    {
     "name": "stdout",
     "output_type": "stream",
     "text": [
      "[[ 1.1]\n",
      " [ 1.3]\n",
      " [ 1.5]\n",
      " [ 2. ]\n",
      " [ 2.2]\n",
      " [ 2.9]\n",
      " [ 3. ]\n",
      " [ 3.2]\n",
      " [ 3.2]\n",
      " [ 3.7]\n",
      " [ 3.9]\n",
      " [ 4. ]\n",
      " [ 4. ]\n",
      " [ 4.1]\n",
      " [ 4.5]\n",
      " [ 4.9]\n",
      " [ 5.1]\n",
      " [ 5.3]\n",
      " [ 5.9]\n",
      " [ 6. ]\n",
      " [ 6.8]\n",
      " [ 7.1]\n",
      " [ 7.9]\n",
      " [ 8.2]\n",
      " [ 8.7]\n",
      " [ 9. ]\n",
      " [ 9.5]\n",
      " [ 9.6]\n",
      " [10.3]\n",
      " [10.5]]\n"
     ]
    }
   ],
   "source": [
    "print(X)"
   ]
  },
  {
   "cell_type": "code",
   "execution_count": 48,
   "id": "5bfdac9b",
   "metadata": {},
   "outputs": [
    {
     "name": "stdout",
     "output_type": "stream",
     "text": [
      "[ 39343.  46205.  37731.  43525.  39891.  56642.  60150.  54445.  64445.\n",
      "  57189.  63218.  55794.  56957.  57081.  61111.  67938.  66029.  83088.\n",
      "  81363.  93940.  91738.  98273. 101302. 113812. 109431. 105582. 116969.\n",
      " 112635. 122391. 121872.]\n"
     ]
    }
   ],
   "source": [
    "print(Y)"
   ]
  },
  {
   "cell_type": "markdown",
   "id": "03158e5d",
   "metadata": {},
   "source": [
    "# Splitting the dataset into training and test data"
   ]
  },
  {
   "cell_type": "code",
   "execution_count": 49,
   "id": "1c02f9bb",
   "metadata": {},
   "outputs": [],
   "source": [
    "X_train, X_test, Y_train, Y_test = train_test_split(X, Y, test_size=0.33, random_state=2 )"
   ]
  },
  {
   "cell_type": "markdown",
   "id": "86732d16",
   "metadata": {},
   "source": [
    "## Training Linear Regression model"
   ]
  },
  {
   "cell_type": "code",
   "execution_count": 53,
   "id": "11144f17",
   "metadata": {},
   "outputs": [],
   "source": [
    "model = LinearRegression(learning_rate = 0.02, iterations = 1000)"
   ]
  },
  {
   "cell_type": "code",
   "execution_count": 54,
   "id": "6b43ff33",
   "metadata": {},
   "outputs": [
    {
     "data": {
      "text/plain": [
       "<__main__.LinearRegression at 0x1e157789e50>"
      ]
     },
     "execution_count": 54,
     "metadata": {},
     "output_type": "execute_result"
    }
   ],
   "source": [
    "model.fit(X_train,Y_train)"
   ]
  },
  {
   "cell_type": "markdown",
   "id": "c00699be",
   "metadata": {},
   "source": [
    "## Printing the parameters value(weights & bias)"
   ]
  },
  {
   "cell_type": "code",
   "execution_count": 56,
   "id": "e9efa0cd",
   "metadata": {},
   "outputs": [
    {
     "name": "stdout",
     "output_type": "stream",
     "text": [
      "weight =  9514.400999035135\n",
      "bias =  23697.406507136307\n"
     ]
    }
   ],
   "source": [
    "print('weight = ',model.W[0])\n",
    "print('bias = ',model.b)"
   ]
  },
  {
   "cell_type": "markdown",
   "id": "9ae20336",
   "metadata": {},
   "source": [
    "## Predict the salary value for test data"
   ]
  },
  {
   "cell_type": "code",
   "execution_count": 57,
   "id": "6a25c2e5",
   "metadata": {},
   "outputs": [],
   "source": [
    "test_data_prediction = model.predict(X_test)"
   ]
  },
  {
   "cell_type": "code",
   "execution_count": 58,
   "id": "5c32a43c",
   "metadata": {},
   "outputs": [
    {
     "name": "stdout",
     "output_type": "stream",
     "text": [
      "[ 36066.12780588  34163.24760607  66512.21100279  58900.69020357\n",
      "  91249.65360029  80783.81250135 101715.49469922  52240.60950424\n",
      "  42726.20850521  88395.33330058]\n"
     ]
    }
   ],
   "source": [
    "print(test_data_prediction)"
   ]
  },
  {
   "cell_type": "markdown",
   "id": "1c4baa9e",
   "metadata": {},
   "source": [
    "# Visualizing the predicted values & Actual values"
   ]
  },
  {
   "cell_type": "code",
   "execution_count": 61,
   "id": "ca80fb49",
   "metadata": {},
   "outputs": [
    {
     "data": {
      "text/plain": [
       "<function matplotlib.pyplot.show(close=None, block=None)>"
      ]
     },
     "execution_count": 61,
     "metadata": {},
     "output_type": "execute_result"
    },
    {
     "data": {
      "image/png": "[encoded data removed]",
      "text/plain": [
       "<Figure size 432x288 with 1 Axes>"
      ]
     },
     "metadata": {
      "needs_background": "light"
     },
     "output_type": "display_data"
    }
   ],
   "source": [
    "plt.scatter(X_test,Y_test, color='red')\n",
    "plt.plot(X_test, test_data_prediction, color ='blue')\n",
    "plt.xlabel('Work Experience')\n",
    "plt.ylabel('salary')\n",
    "plt.title('Salary vs Work Experience')\n",
    "plt.show"
   ]
  },
  {
   "cell_type": "code",
   "execution_count": null,
   "id": "47f72e36",
   "metadata": {},
   "outputs": [],
   "source": []
  }
 ],
 "metadata": {
  "kernelspec": {
   "display_name": "Python 3 (ipykernel)",
   "language": "python",
   "name": "python3"
  },
  "language_info": {
   "codemirror_mode": {
    "name": "ipython",
    "version": 3
   },
   "file_extension": ".py",
   "mimetype": "text/x-python",
   "name": "python",
   "nbconvert_exporter": "python",
   "pygments_lexer": "ipython3",
   "version": "3.9.12"
  }
 },
 "nbformat": 4,
 "nbformat_minor": 5
}

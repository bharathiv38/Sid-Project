{
 "cells": [
  {
   "cell_type": "code",
   "execution_count": 1,
   "id": "a026d6dc",
   "metadata": {},
   "outputs": [],
   "source": [
    "import pandas as pd\n",
    "import numpy as np\n",
    "from sklearn.model_selection import train_test_split\n",
    "from sklearn.model_selection import cross_val_score\n",
    "from sklearn.metrics import accuracy_score"
   ]
  },
  {
   "cell_type": "code",
   "execution_count": 2,
   "id": "1691e0c8",
   "metadata": {},
   "outputs": [],
   "source": [
    "from sklearn.linear_model import LogisticRegression\n",
    "from sklearn.svm import SVC\n",
    "from sklearn.neighbors import KNeighborsClassifier\n",
    "from sklearn.ensemble import RandomForestClassifier"
   ]
  },
  {
   "cell_type": "code",
   "execution_count": 8,
   "id": "dcf494d6",
   "metadata": {},
   "outputs": [],
   "source": [
    "heart = pd.read_csv(r'C:\\Users\\Laptop\\Downloads\\New folder\\New folder\\heart (1).csv')"
   ]
  },
  {
   "cell_type": "code",
   "execution_count": 9,
   "id": "f7f505ec",
   "metadata": {},
   "outputs": [
    {
     "data": {
      "text/html": [
       "<div>\n",
       "<style scoped>\n",
       "    .dataframe tbody tr th:only-of-type {\n",
       "        vertical-align: middle;\n",
       "    }\n",
       "\n",
       "    .dataframe tbody tr th {\n",
       "        vertical-align: top;\n",
       "    }\n",
       "\n",
       "    .dataframe thead th {\n",
       "        text-align: right;\n",
       "    }\n",
       "</style>\n",
       "<table border=\"1\" class=\"dataframe\">\n",
       "  <thead>\n",
       "    <tr style=\"text-align: right;\">\n",
       "      <th></th>\n",
       "      <th>age</th>\n",
       "      <th>sex</th>\n",
       "      <th>cp</th>\n",
       "      <th>trestbps</th>\n",
       "      <th>chol</th>\n",
       "      <th>fbs</th>\n",
       "      <th>restecg</th>\n",
       "      <th>thalach</th>\n",
       "      <th>exang</th>\n",
       "      <th>oldpeak</th>\n",
       "      <th>slope</th>\n",
       "      <th>ca</th>\n",
       "      <th>thal</th>\n",
       "      <th>target</th>\n",
       "    </tr>\n",
       "  </thead>\n",
       "  <tbody>\n",
       "    <tr>\n",
       "      <th>0</th>\n",
       "      <td>63</td>\n",
       "      <td>1</td>\n",
       "      <td>3</td>\n",
       "      <td>145</td>\n",
       "      <td>233</td>\n",
       "      <td>1</td>\n",
       "      <td>0</td>\n",
       "      <td>150</td>\n",
       "      <td>0</td>\n",
       "      <td>2.3</td>\n",
       "      <td>0</td>\n",
       "      <td>0</td>\n",
       "      <td>1</td>\n",
       "      <td>1</td>\n",
       "    </tr>\n",
       "    <tr>\n",
       "      <th>1</th>\n",
       "      <td>37</td>\n",
       "      <td>1</td>\n",
       "      <td>2</td>\n",
       "      <td>130</td>\n",
       "      <td>250</td>\n",
       "      <td>0</td>\n",
       "      <td>1</td>\n",
       "      <td>187</td>\n",
       "      <td>0</td>\n",
       "      <td>3.5</td>\n",
       "      <td>0</td>\n",
       "      <td>0</td>\n",
       "      <td>2</td>\n",
       "      <td>1</td>\n",
       "    </tr>\n",
       "    <tr>\n",
       "      <th>2</th>\n",
       "      <td>41</td>\n",
       "      <td>0</td>\n",
       "      <td>1</td>\n",
       "      <td>130</td>\n",
       "      <td>204</td>\n",
       "      <td>0</td>\n",
       "      <td>0</td>\n",
       "      <td>172</td>\n",
       "      <td>0</td>\n",
       "      <td>1.4</td>\n",
       "      <td>2</td>\n",
       "      <td>0</td>\n",
       "      <td>2</td>\n",
       "      <td>1</td>\n",
       "    </tr>\n",
       "    <tr>\n",
       "      <th>3</th>\n",
       "      <td>56</td>\n",
       "      <td>1</td>\n",
       "      <td>1</td>\n",
       "      <td>120</td>\n",
       "      <td>236</td>\n",
       "      <td>0</td>\n",
       "      <td>1</td>\n",
       "      <td>178</td>\n",
       "      <td>0</td>\n",
       "      <td>0.8</td>\n",
       "      <td>2</td>\n",
       "      <td>0</td>\n",
       "      <td>2</td>\n",
       "      <td>1</td>\n",
       "    </tr>\n",
       "    <tr>\n",
       "      <th>4</th>\n",
       "      <td>57</td>\n",
       "      <td>0</td>\n",
       "      <td>0</td>\n",
       "      <td>120</td>\n",
       "      <td>354</td>\n",
       "      <td>0</td>\n",
       "      <td>1</td>\n",
       "      <td>163</td>\n",
       "      <td>1</td>\n",
       "      <td>0.6</td>\n",
       "      <td>2</td>\n",
       "      <td>0</td>\n",
       "      <td>2</td>\n",
       "      <td>1</td>\n",
       "    </tr>\n",
       "  </tbody>\n",
       "</table>\n",
       "</div>"
      ],
      "text/plain": [
       "   age  sex  cp  trestbps  chol  fbs  restecg  thalach  exang  oldpeak  slope  \\\n",
       "0   63    1   3       145   233    1        0      150      0      2.3      0   \n",
       "1   37    1   2       130   250    0        1      187      0      3.5      0   \n",
       "2   41    0   1       130   204    0        0      172      0      1.4      2   \n",
       "3   56    1   1       120   236    0        1      178      0      0.8      2   \n",
       "4   57    0   0       120   354    0        1      163      1      0.6      2   \n",
       "\n",
       "   ca  thal  target  \n",
       "0   0     1       1  \n",
       "1   0     2       1  \n",
       "2   0     2       1  \n",
       "3   0     2       1  \n",
       "4   0     2       1  "
      ]
     },
     "execution_count": 9,
     "metadata": {},
     "output_type": "execute_result"
    }
   ],
   "source": [
    "heart.head()"
   ]
  },
  {
   "cell_type": "code",
   "execution_count": 10,
   "id": "cce90810",
   "metadata": {},
   "outputs": [
    {
     "data": {
      "text/plain": [
       "(303, 14)"
      ]
     },
     "execution_count": 10,
     "metadata": {},
     "output_type": "execute_result"
    }
   ],
   "source": [
    "heart.shape"
   ]
  },
  {
   "cell_type": "code",
   "execution_count": 11,
   "id": "18998d4f",
   "metadata": {},
   "outputs": [
    {
     "name": "stdout",
     "output_type": "stream",
     "text": [
      "<class 'pandas.core.frame.DataFrame'>\n",
      "RangeIndex: 303 entries, 0 to 302\n",
      "Data columns (total 14 columns):\n",
      " #   Column    Non-Null Count  Dtype  \n",
      "---  ------    --------------  -----  \n",
      " 0   age       303 non-null    int64  \n",
      " 1   sex       303 non-null    int64  \n",
      " 2   cp        303 non-null    int64  \n",
      " 3   trestbps  303 non-null    int64  \n",
      " 4   chol      303 non-null    int64  \n",
      " 5   fbs       303 non-null    int64  \n",
      " 6   restecg   303 non-null    int64  \n",
      " 7   thalach   303 non-null    int64  \n",
      " 8   exang     303 non-null    int64  \n",
      " 9   oldpeak   303 non-null    float64\n",
      " 10  slope     303 non-null    int64  \n",
      " 11  ca        303 non-null    int64  \n",
      " 12  thal      303 non-null    int64  \n",
      " 13  target    303 non-null    int64  \n",
      "dtypes: float64(1), int64(13)\n",
      "memory usage: 33.3 KB\n"
     ]
    }
   ],
   "source": [
    "heart.info()"
   ]
  },
  {
   "cell_type": "code",
   "execution_count": 13,
   "id": "6fad3f96",
   "metadata": {},
   "outputs": [],
   "source": [
    "X = heart.drop(columns='target',axis=1)\n",
    "Y = heart['target']"
   ]
  },
  {
   "cell_type": "code",
   "execution_count": 22,
   "id": "b18f8cb0",
   "metadata": {},
   "outputs": [],
   "source": [
    "X_train, X_test, Y_train, Y_test = train_test_split(X,Y, test_size=0.2,stratify=Y,random_state=3)"
   ]
  },
  {
   "cell_type": "code",
   "execution_count": 23,
   "id": "c4804c8d",
   "metadata": {},
   "outputs": [
    {
     "name": "stdout",
     "output_type": "stream",
     "text": [
      "(303, 13) (242, 13) (61, 13)\n"
     ]
    }
   ],
   "source": [
    "print(X.shape,X_train.shape,X_test.shape)"
   ]
  },
  {
   "cell_type": "code",
   "execution_count": 29,
   "id": "2b159c36",
   "metadata": {},
   "outputs": [],
   "source": [
    "models = [LogisticRegression(max_iter=1000),SVC(kernel='linear'), KNeighborsClassifier(), RandomForestClassifier()]"
   ]
  },
  {
   "cell_type": "code",
   "execution_count": 30,
   "id": "b6723e0b",
   "metadata": {},
   "outputs": [],
   "source": [
    "def compare_model_train_test():\n",
    "    \n",
    "    for model in models:\n",
    "        \n",
    "        model.fit(X_train, Y_train)\n",
    "        \n",
    "        test_data_prediction = model.predict(X_test)\n",
    "        \n",
    "        accuracy = accuracy_score(Y_test, test_data_prediction)\n",
    "        \n",
    "        print('Accurac Score of the ',model,' = ',accuracy)"
   ]
  },
  {
   "cell_type": "code",
   "execution_count": 31,
   "id": "594969a6",
   "metadata": {},
   "outputs": [
    {
     "name": "stdout",
     "output_type": "stream",
     "text": [
      "Accurac Score of the  LogisticRegression(max_iter=1000)  =  0.7704918032786885\n",
      "Accurac Score of the  SVC(kernel='linear')  =  0.7704918032786885\n",
      "Accurac Score of the  KNeighborsClassifier()  =  0.6557377049180327\n",
      "Accurac Score of the  RandomForestClassifier()  =  0.7868852459016393\n"
     ]
    }
   ],
   "source": [
    "compare_model_train_test()"
   ]
  },
  {
   "cell_type": "markdown",
   "id": "f2aef84f",
   "metadata": {},
   "source": [
    "# Cross Validation"
   ]
  },
  {
   "cell_type": "markdown",
   "id": "2af79a3b",
   "metadata": {},
   "source": [
    "## Logistic Regression"
   ]
  },
  {
   "cell_type": "code",
   "execution_count": 33,
   "id": "f3c83092",
   "metadata": {},
   "outputs": [
    {
     "name": "stdout",
     "output_type": "stream",
     "text": [
      "[0.80327869 0.86885246 0.85245902 0.86666667 0.75      ]\n",
      "82.83\n"
     ]
    }
   ],
   "source": [
    "cv_score_lr = cross_val_score(LogisticRegression(max_iter=1000),X,Y, cv=5)\n",
    "\n",
    "print(cv_score_lr)\n",
    "\n",
    "mean_accuracy_lr = sum(cv_score_lr)/len(cv_score_lr)\n",
    "\n",
    "mean_accuracy_lr = mean_accuracy_lr*100\n",
    "\n",
    "mean_accuracy_lr = round(mean_accuracy_lr,2)\n",
    "\n",
    "print(mean_accuracy_lr)"
   ]
  },
  {
   "cell_type": "markdown",
   "id": "a9b88ec6",
   "metadata": {},
   "source": [
    "## Support Vector Classifier"
   ]
  },
  {
   "cell_type": "code",
   "execution_count": 35,
   "id": "9db4824b",
   "metadata": {},
   "outputs": [
    {
     "name": "stdout",
     "output_type": "stream",
     "text": [
      "[0.81967213 0.8852459  0.80327869 0.86666667 0.76666667]\n",
      "82.83\n"
     ]
    }
   ],
   "source": [
    "cv_score_svc = cross_val_score(SVC(kernel='linear'),X,Y,cv=5)\n",
    "\n",
    "print(cv_score_svc)\n",
    "\n",
    "mean_accuracy_svc = sum(cv_score_svc)/len(cv_score_svc)\n",
    "\n",
    "mean_accuracy_svc = mean_accuracy_svc*100\n",
    "\n",
    "mean_accuracy_svc = round(mean_accuracy_svc,2)\n",
    "\n",
    "print(mean_accuracy_svc)"
   ]
  },
  {
   "cell_type": "markdown",
   "id": "ad3bb34a",
   "metadata": {},
   "source": [
    "## Creating function to compare the model"
   ]
  },
  {
   "cell_type": "code",
   "execution_count": 36,
   "id": "1e6b0575",
   "metadata": {},
   "outputs": [],
   "source": [
    "models = [LogisticRegression(max_iter=1000), SVC(kernel='linear'), KNeighborsClassifier(),RandomForestClassifier()]"
   ]
  },
  {
   "cell_type": "code",
   "execution_count": 40,
   "id": "6a2ab2ac",
   "metadata": {},
   "outputs": [],
   "source": [
    "def compare_model_test_train():\n",
    "\n",
    "    for model in models:\n",
    "        \n",
    "        cv_score = cross_val_score(model, X, Y, cv =5)\n",
    "        \n",
    "        mean_accuracy = sum(cv_score)/len(cv_score)\n",
    "        \n",
    "        mean_accuracy = mean_accuracy*100\n",
    "        \n",
    "        mean_accuracy = round(mean_accuracy,2)\n",
    "        \n",
    "        print('Cross validation accuracies for the model',model, '= ',cv_score)\n",
    "        print('Accuracy% of the model ',model,mean_accuracy)\n",
    "        print('------------------------------------------------------')\n",
    "    \n",
    "    "
   ]
  },
  {
   "cell_type": "code",
   "execution_count": 41,
   "id": "840574f2",
   "metadata": {},
   "outputs": [
    {
     "name": "stdout",
     "output_type": "stream",
     "text": [
      "Cross validation accuracies for the model LogisticRegression(max_iter=1000) =  [0.80327869 0.86885246 0.85245902 0.86666667 0.75      ]\n",
      "Accuracy% of the model  LogisticRegression(max_iter=1000) 82.83\n",
      "------------------------------------------------------\n",
      "Cross validation accuracies for the model SVC(kernel='linear') =  [0.81967213 0.8852459  0.80327869 0.86666667 0.76666667]\n",
      "Accuracy% of the model  SVC(kernel='linear') 82.83\n",
      "------------------------------------------------------\n",
      "Cross validation accuracies for the model KNeighborsClassifier() =  [0.60655738 0.6557377  0.57377049 0.73333333 0.65      ]\n",
      "Accuracy% of the model  KNeighborsClassifier() 64.39\n",
      "------------------------------------------------------\n",
      "Cross validation accuracies for the model RandomForestClassifier() =  [0.85245902 0.91803279 0.80327869 0.81666667 0.76666667]\n",
      "Accuracy% of the model  RandomForestClassifier() 83.14\n",
      "------------------------------------------------------\n"
     ]
    }
   ],
   "source": [
    "compare_model_test_train()"
   ]
  },
  {
   "cell_type": "code",
   "execution_count": null,
   "id": "a228ecc9",
   "metadata": {},
   "outputs": [],
   "source": []
  }
 ],
 "metadata": {
  "kernelspec": {
   "display_name": "Python 3",
   "language": "python",
   "name": "python3"
  },
  "language_info": {
   "codemirror_mode": {
    "name": "ipython",
    "version": 3
   },
   "file_extension": ".py",
   "mimetype": "text/x-python",
   "name": "python",
   "nbconvert_exporter": "python",
   "pygments_lexer": "ipython3",
   "version": "3.8.8"
  },
  "toc": {
   "base_numbering": 1,
   "nav_menu": {},
   "number_sections": true,
   "sideBar": true,
   "skip_h1_title": false,
   "title_cell": "Table of Contents",
   "title_sidebar": "Contents",
   "toc_cell": false,
   "toc_position": {},
   "toc_section_display": true,
   "toc_window_display": false
  }
 },
 "nbformat": 4,
 "nbformat_minor": 5
}

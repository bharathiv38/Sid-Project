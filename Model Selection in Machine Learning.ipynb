{
 "cells": [
  {
   "cell_type": "code",
   "execution_count": 2,
   "id": "1852aed9",
   "metadata": {},
   "outputs": [],
   "source": [
    "#Lets import libraries\n",
    "import pandas as pd\n",
    "import numpy as np\n",
    "from sklearn.model_selection import cross_val_score\n",
    "from sklearn.model_selection import GridSearchCV"
   ]
  },
  {
   "cell_type": "code",
   "execution_count": 5,
   "id": "47f53595",
   "metadata": {},
   "outputs": [],
   "source": [
    "#importing models\n",
    "from sklearn.linear_model import LogisticRegression\n",
    "from sklearn.svm import SVC\n",
    "from sklearn.neighbors import KNeighborsClassifier\n",
    "from sklearn.ensemble import RandomForestClassifier"
   ]
  },
  {
   "cell_type": "code",
   "execution_count": 11,
   "id": "dc7f6685",
   "metadata": {},
   "outputs": [],
   "source": [
    "#loading dataset\n",
    "heart = pd.read_csv(r\"C:\\Users\\bharathi.v04\\Downloads\\DS\\heart2.csv\")"
   ]
  },
  {
   "cell_type": "code",
   "execution_count": 12,
   "id": "4f1d8379",
   "metadata": {},
   "outputs": [
    {
     "data": {
      "text/html": [
       "<div>\n",
       "<style scoped>\n",
       "    .dataframe tbody tr th:only-of-type {\n",
       "        vertical-align: middle;\n",
       "    }\n",
       "\n",
       "    .dataframe tbody tr th {\n",
       "        vertical-align: top;\n",
       "    }\n",
       "\n",
       "    .dataframe thead th {\n",
       "        text-align: right;\n",
       "    }\n",
       "</style>\n",
       "<table border=\"1\" class=\"dataframe\">\n",
       "  <thead>\n",
       "    <tr style=\"text-align: right;\">\n",
       "      <th></th>\n",
       "      <th>age</th>\n",
       "      <th>sex</th>\n",
       "      <th>cp</th>\n",
       "      <th>trestbps</th>\n",
       "      <th>chol</th>\n",
       "      <th>fbs</th>\n",
       "      <th>restecg</th>\n",
       "      <th>thalach</th>\n",
       "      <th>exang</th>\n",
       "      <th>oldpeak</th>\n",
       "      <th>slope</th>\n",
       "      <th>ca</th>\n",
       "      <th>thal</th>\n",
       "      <th>target</th>\n",
       "    </tr>\n",
       "  </thead>\n",
       "  <tbody>\n",
       "    <tr>\n",
       "      <th>0</th>\n",
       "      <td>52</td>\n",
       "      <td>1</td>\n",
       "      <td>0</td>\n",
       "      <td>125</td>\n",
       "      <td>212</td>\n",
       "      <td>0</td>\n",
       "      <td>1</td>\n",
       "      <td>168</td>\n",
       "      <td>0</td>\n",
       "      <td>1.0</td>\n",
       "      <td>2</td>\n",
       "      <td>2</td>\n",
       "      <td>3</td>\n",
       "      <td>0</td>\n",
       "    </tr>\n",
       "    <tr>\n",
       "      <th>1</th>\n",
       "      <td>53</td>\n",
       "      <td>1</td>\n",
       "      <td>0</td>\n",
       "      <td>140</td>\n",
       "      <td>203</td>\n",
       "      <td>1</td>\n",
       "      <td>0</td>\n",
       "      <td>155</td>\n",
       "      <td>1</td>\n",
       "      <td>3.1</td>\n",
       "      <td>0</td>\n",
       "      <td>0</td>\n",
       "      <td>3</td>\n",
       "      <td>0</td>\n",
       "    </tr>\n",
       "    <tr>\n",
       "      <th>2</th>\n",
       "      <td>70</td>\n",
       "      <td>1</td>\n",
       "      <td>0</td>\n",
       "      <td>145</td>\n",
       "      <td>174</td>\n",
       "      <td>0</td>\n",
       "      <td>1</td>\n",
       "      <td>125</td>\n",
       "      <td>1</td>\n",
       "      <td>2.6</td>\n",
       "      <td>0</td>\n",
       "      <td>0</td>\n",
       "      <td>3</td>\n",
       "      <td>0</td>\n",
       "    </tr>\n",
       "    <tr>\n",
       "      <th>3</th>\n",
       "      <td>61</td>\n",
       "      <td>1</td>\n",
       "      <td>0</td>\n",
       "      <td>148</td>\n",
       "      <td>203</td>\n",
       "      <td>0</td>\n",
       "      <td>1</td>\n",
       "      <td>161</td>\n",
       "      <td>0</td>\n",
       "      <td>0.0</td>\n",
       "      <td>2</td>\n",
       "      <td>1</td>\n",
       "      <td>3</td>\n",
       "      <td>0</td>\n",
       "    </tr>\n",
       "    <tr>\n",
       "      <th>4</th>\n",
       "      <td>62</td>\n",
       "      <td>0</td>\n",
       "      <td>0</td>\n",
       "      <td>138</td>\n",
       "      <td>294</td>\n",
       "      <td>1</td>\n",
       "      <td>1</td>\n",
       "      <td>106</td>\n",
       "      <td>0</td>\n",
       "      <td>1.9</td>\n",
       "      <td>1</td>\n",
       "      <td>3</td>\n",
       "      <td>2</td>\n",
       "      <td>0</td>\n",
       "    </tr>\n",
       "  </tbody>\n",
       "</table>\n",
       "</div>"
      ],
      "text/plain": [
       "   age  sex  cp  trestbps  chol  fbs  restecg  thalach  exang  oldpeak  slope  \\\n",
       "0   52    1   0       125   212    0        1      168      0      1.0      2   \n",
       "1   53    1   0       140   203    1        0      155      1      3.1      0   \n",
       "2   70    1   0       145   174    0        1      125      1      2.6      0   \n",
       "3   61    1   0       148   203    0        1      161      0      0.0      2   \n",
       "4   62    0   0       138   294    1        1      106      0      1.9      1   \n",
       "\n",
       "   ca  thal  target  \n",
       "0   2     3       0  \n",
       "1   0     3       0  \n",
       "2   0     3       0  \n",
       "3   1     3       0  \n",
       "4   3     2       0  "
      ]
     },
     "execution_count": 12,
     "metadata": {},
     "output_type": "execute_result"
    }
   ],
   "source": [
    "#printing the first 5 rows\n",
    "heart.head()"
   ]
  },
  {
   "cell_type": "code",
   "execution_count": 13,
   "id": "1aad8305",
   "metadata": {},
   "outputs": [
    {
     "data": {
      "text/plain": [
       "(300, 14)"
      ]
     },
     "execution_count": 13,
     "metadata": {},
     "output_type": "execute_result"
    }
   ],
   "source": [
    "#finding the no of rows and columns\n",
    "heart.shape"
   ]
  },
  {
   "cell_type": "code",
   "execution_count": 14,
   "id": "0e671a1e",
   "metadata": {},
   "outputs": [
    {
     "name": "stdout",
     "output_type": "stream",
     "text": [
      "<class 'pandas.core.frame.DataFrame'>\n",
      "RangeIndex: 300 entries, 0 to 299\n",
      "Data columns (total 14 columns):\n",
      " #   Column    Non-Null Count  Dtype  \n",
      "---  ------    --------------  -----  \n",
      " 0   age       300 non-null    int64  \n",
      " 1   sex       300 non-null    int64  \n",
      " 2   cp        300 non-null    int64  \n",
      " 3   trestbps  300 non-null    int64  \n",
      " 4   chol      300 non-null    int64  \n",
      " 5   fbs       300 non-null    int64  \n",
      " 6   restecg   300 non-null    int64  \n",
      " 7   thalach   300 non-null    int64  \n",
      " 8   exang     300 non-null    int64  \n",
      " 9   oldpeak   300 non-null    float64\n",
      " 10  slope     300 non-null    int64  \n",
      " 11  ca        300 non-null    int64  \n",
      " 12  thal      300 non-null    int64  \n",
      " 13  target    300 non-null    int64  \n",
      "dtypes: float64(1), int64(13)\n",
      "memory usage: 32.9 KB\n"
     ]
    }
   ],
   "source": [
    "heart.info()"
   ]
  },
  {
   "cell_type": "code",
   "execution_count": 15,
   "id": "abf3b0c7",
   "metadata": {},
   "outputs": [
    {
     "data": {
      "text/plain": [
       "age         0\n",
       "sex         0\n",
       "cp          0\n",
       "trestbps    0\n",
       "chol        0\n",
       "fbs         0\n",
       "restecg     0\n",
       "thalach     0\n",
       "exang       0\n",
       "oldpeak     0\n",
       "slope       0\n",
       "ca          0\n",
       "thal        0\n",
       "target      0\n",
       "dtype: int64"
      ]
     },
     "execution_count": 15,
     "metadata": {},
     "output_type": "execute_result"
    }
   ],
   "source": [
    "#finding the null value\n",
    "heart.isnull().sum()"
   ]
  },
  {
   "cell_type": "code",
   "execution_count": 16,
   "id": "004310fa",
   "metadata": {},
   "outputs": [
    {
     "data": {
      "text/plain": [
       "1    159\n",
       "0    141\n",
       "Name: target, dtype: int64"
      ]
     },
     "execution_count": 16,
     "metadata": {},
     "output_type": "execute_result"
    }
   ],
   "source": [
    "#checking the distribution of the target\n",
    "heart['target'].value_counts()"
   ]
  },
  {
   "cell_type": "markdown",
   "id": "659b01a7",
   "metadata": {},
   "source": [
    "### Splitting the features and target"
   ]
  },
  {
   "cell_type": "code",
   "execution_count": 17,
   "id": "1a614dce",
   "metadata": {},
   "outputs": [],
   "source": [
    "X = heart.drop(columns='target',axis=1)\n",
    "Y = heart['target']"
   ]
  },
  {
   "cell_type": "code",
   "execution_count": 18,
   "id": "68bc5769",
   "metadata": {},
   "outputs": [
    {
     "name": "stdout",
     "output_type": "stream",
     "text": [
      "     age  sex  cp  trestbps  chol  fbs  restecg  thalach  exang  oldpeak  \\\n",
      "0     52    1   0       125   212    0        1      168      0      1.0   \n",
      "1     53    1   0       140   203    1        0      155      1      3.1   \n",
      "2     70    1   0       145   174    0        1      125      1      2.6   \n",
      "3     61    1   0       148   203    0        1      161      0      0.0   \n",
      "4     62    0   0       138   294    1        1      106      0      1.9   \n",
      "..   ...  ...  ..       ...   ...  ...      ...      ...    ...      ...   \n",
      "295   67    1   0       100   299    0        0      125      1      0.9   \n",
      "296   67    1   0       120   237    0        1       71      0      1.0   \n",
      "297   58    1   0       150   270    0        0      111      1      0.8   \n",
      "298   35    1   1       122   192    0        1      174      0      0.0   \n",
      "299   52    1   1       120   325    0        1      172      0      0.2   \n",
      "\n",
      "     slope  ca  thal  \n",
      "0        2   2     3  \n",
      "1        0   0     3  \n",
      "2        0   0     3  \n",
      "3        2   1     3  \n",
      "4        1   3     2  \n",
      "..     ...  ..   ...  \n",
      "295      1   2     2  \n",
      "296      1   0     2  \n",
      "297      2   0     3  \n",
      "298      2   0     2  \n",
      "299      2   0     2  \n",
      "\n",
      "[300 rows x 13 columns]\n"
     ]
    }
   ],
   "source": [
    "print(X)"
   ]
  },
  {
   "cell_type": "code",
   "execution_count": 19,
   "id": "17a678bc",
   "metadata": {},
   "outputs": [
    {
     "name": "stdout",
     "output_type": "stream",
     "text": [
      "0      0\n",
      "1      0\n",
      "2      0\n",
      "3      0\n",
      "4      0\n",
      "      ..\n",
      "295    0\n",
      "296    0\n",
      "297    0\n",
      "298    1\n",
      "299    1\n",
      "Name: target, Length: 300, dtype: int64\n"
     ]
    }
   ],
   "source": [
    "print(Y)"
   ]
  },
  {
   "cell_type": "code",
   "execution_count": 20,
   "id": "cfbfcec1",
   "metadata": {},
   "outputs": [],
   "source": [
    "X = np.asarray(X)\n",
    "Y = np.asarray(Y)"
   ]
  },
  {
   "cell_type": "markdown",
   "id": "4a3a3fee",
   "metadata": {},
   "source": [
    "#### Model Selection"
   ]
  },
  {
   "cell_type": "markdown",
   "id": "7803eaf2",
   "metadata": {},
   "source": [
    "Comparing the model with default hyperparameter value using cross validation"
   ]
  },
  {
   "cell_type": "code",
   "execution_count": 23,
   "id": "2c864b44",
   "metadata": {},
   "outputs": [],
   "source": [
    "#list of model\n",
    "models = [LogisticRegression(max_iter=1000),SVC(kernel='linear'),KNeighborsClassifier(),RandomForestClassifier(random_state=0)]"
   ]
  },
  {
   "cell_type": "code",
   "execution_count": 26,
   "id": "b2dcf92d",
   "metadata": {},
   "outputs": [],
   "source": [
    "def compare_models_cross_validation():\n",
    "    \n",
    "    for model in models:\n",
    "        \n",
    "        cv_score = cross_val_score(model, X, Y, cv=5)\n",
    "        \n",
    "        mean_accuracy = sum(cv_score)/len(cv_score)\n",
    "        \n",
    "        mean_accuracy = mean_accuracy*100\n",
    "        \n",
    "        mean_accuracy = round(mean_accuracy,2)\n",
    "        \n",
    "        print(\"Cross Validataion Accuracy for the \",model, ' = ',cv_score)\n",
    "        print(\"Accuracy score of the model \",model, ' = ',mean_accuracy,'%') \n",
    "        print(\"----------------------------------------------------------------------------------------------------------\")"
   ]
  },
  {
   "cell_type": "code",
   "execution_count": 27,
   "id": "f09a12bb",
   "metadata": {
    "scrolled": true
   },
   "outputs": [
    {
     "name": "stdout",
     "output_type": "stream",
     "text": [
      "Cross Validataion Accuracy for the  LogisticRegression(max_iter=1000)  =  [0.85       0.86666667 0.91666667 0.9        0.88333333]\n",
      "Accuracy score of the model  LogisticRegression(max_iter=1000)  =  88.33 %\n",
      "----------------------------------------------------------------------------------------------------------\n",
      "Cross Validataion Accuracy for the  SVC(kernel='linear')  =  [0.85       0.85       0.9        0.9        0.86666667]\n",
      "Accuracy score of the model  SVC(kernel='linear')  =  87.33 %\n",
      "----------------------------------------------------------------------------------------------------------\n",
      "Cross Validataion Accuracy for the  KNeighborsClassifier()  =  [0.63333333 0.7        0.66666667 0.8        0.73333333]\n",
      "Accuracy score of the model  KNeighborsClassifier()  =  70.67 %\n",
      "----------------------------------------------------------------------------------------------------------\n",
      "Cross Validataion Accuracy for the  RandomForestClassifier(random_state=0)  =  [0.86666667 0.9        0.91666667 0.93333333 0.86666667]\n",
      "Accuracy score of the model  RandomForestClassifier(random_state=0)  =  89.67 %\n",
      "----------------------------------------------------------------------------------------------------------\n"
     ]
    }
   ],
   "source": [
    "compare_models_cross_validation()"
   ]
  },
  {
   "cell_type": "markdown",
   "id": "58c0faf8",
   "metadata": {},
   "source": [
    "Inference:\n",
    "    \n",
    "For the heart disease dataset, RandomForestClassifier has the highest accuracy value with default Hyperparameter values"
   ]
  },
  {
   "cell_type": "markdown",
   "id": "4e0e8d1f",
   "metadata": {},
   "source": [
    "Comparing the models with different hyperparameters value using GridSearchCV"
   ]
  },
  {
   "cell_type": "code",
   "execution_count": 28,
   "id": "4a976946",
   "metadata": {},
   "outputs": [],
   "source": [
    "#list of model\n",
    "models_list = [LogisticRegression(max_iter=10000),SVC(),KNeighborsClassifier(),RandomForestClassifier(random_state=0)]"
   ]
  },
  {
   "cell_type": "code",
   "execution_count": 30,
   "id": "4cd9bfe9",
   "metadata": {},
   "outputs": [],
   "source": [
    "# creating the dictionary that contains hyperparameter values for the above mentioned models\n",
    "model_hyperparameters = {\n",
    "    \n",
    "    'log_reg_hyperparameters':{\n",
    "        'C':[1,5,10,20]\n",
    "    },\n",
    "    \n",
    "    'svc_hyperparameters':{\n",
    "        'kernel':['linear','poly','rbf','sigmoid'],\n",
    "        'C':[1,5,10,20]\n",
    "    },\n",
    "    \n",
    "    'KNN_hyperparameters':{\n",
    "        'n_neighbors': [3,5,10]\n",
    "    },\n",
    "    \n",
    "    'randomforest_hyperparameters':{\n",
    "        'n_estimators': [10,20,50,100]\n",
    "    }\n",
    "    \n",
    "    \n",
    "}"
   ]
  },
  {
   "cell_type": "code",
   "execution_count": 31,
   "id": "65676ead",
   "metadata": {},
   "outputs": [
    {
     "data": {
      "text/plain": [
       "dict"
      ]
     },
     "execution_count": 31,
     "metadata": {},
     "output_type": "execute_result"
    }
   ],
   "source": [
    "type(model_hyperparameters)"
   ]
  },
  {
   "cell_type": "code",
   "execution_count": 32,
   "id": "96d86857",
   "metadata": {},
   "outputs": [
    {
     "data": {
      "text/plain": [
       "dict_keys(['log_reg_hyperparameters', 'svc_hyperparameters', 'KNN_hyperparameters', 'randomforest_hyperparameters'])"
      ]
     },
     "execution_count": 32,
     "metadata": {},
     "output_type": "execute_result"
    }
   ],
   "source": [
    "model_hyperparameters.keys()"
   ]
  },
  {
   "cell_type": "code",
   "execution_count": 33,
   "id": "d4795b84",
   "metadata": {},
   "outputs": [
    {
     "data": {
      "text/plain": [
       "dict_values([{'C': [1, 5, 10, 20]}, {'kernel': ['linear', 'poly', 'rbf', 'sigmoid'], 'C': [1, 5, 10, 20]}, {'n_neighbors': [3, 5, 10]}, {'n_estimators': [10, 20, 50, 100]}])"
      ]
     },
     "execution_count": 33,
     "metadata": {},
     "output_type": "execute_result"
    }
   ],
   "source": [
    "model_hyperparameters.values()"
   ]
  },
  {
   "cell_type": "code",
   "execution_count": 34,
   "id": "1c903bf9",
   "metadata": {},
   "outputs": [],
   "source": [
    "model_keys = list(model_hyperparameters.keys())"
   ]
  },
  {
   "cell_type": "code",
   "execution_count": 35,
   "id": "97cec95c",
   "metadata": {},
   "outputs": [
    {
     "name": "stdout",
     "output_type": "stream",
     "text": [
      "['log_reg_hyperparameters', 'svc_hyperparameters', 'KNN_hyperparameters', 'randomforest_hyperparameters']\n"
     ]
    }
   ],
   "source": [
    "print(model_keys)"
   ]
  },
  {
   "cell_type": "code",
   "execution_count": 36,
   "id": "56aa0517",
   "metadata": {},
   "outputs": [
    {
     "data": {
      "text/plain": [
       "{'C': [1, 5, 10, 20]}"
      ]
     },
     "execution_count": 36,
     "metadata": {},
     "output_type": "execute_result"
    }
   ],
   "source": [
    "model_hyperparameters['log_reg_hyperparameters']"
   ]
  },
  {
   "cell_type": "code",
   "execution_count": 39,
   "id": "6e9e2703",
   "metadata": {},
   "outputs": [
    {
     "data": {
      "text/plain": [
       "'randomforest_hyperparameters'"
      ]
     },
     "execution_count": 39,
     "metadata": {},
     "output_type": "execute_result"
    }
   ],
   "source": [
    "model_keys[3]"
   ]
  },
  {
   "cell_type": "code",
   "execution_count": 40,
   "id": "1cf58a05",
   "metadata": {},
   "outputs": [
    {
     "data": {
      "text/plain": [
       "{'C': [1, 5, 10, 20]}"
      ]
     },
     "execution_count": 40,
     "metadata": {},
     "output_type": "execute_result"
    }
   ],
   "source": [
    "model_hyperparameters[model_keys[0]]"
   ]
  },
  {
   "cell_type": "markdown",
   "id": "b9645472",
   "metadata": {},
   "source": [
    "Applying GridSearchCV"
   ]
  },
  {
   "cell_type": "code",
   "execution_count": 46,
   "id": "6ad99dec",
   "metadata": {},
   "outputs": [],
   "source": [
    "def ModelSelection(list_of_models,hyperparameter_dictionary):\n",
    "    \n",
    "    result =[]\n",
    "    \n",
    "    i = 0\n",
    "    \n",
    "    for model in list_of_models:\n",
    "        \n",
    "        key = model_keys[i]\n",
    "        \n",
    "        params = hyperparameter_dictionary[key]\n",
    "        \n",
    "        i += 1\n",
    "        \n",
    "        print(model)\n",
    "        print(params)\n",
    "        \n",
    "        \n",
    "        classifier = GridSearchCV(model, params, cv=5)\n",
    "        \n",
    "        #fitting the data to classifier\n",
    "        classifier.fit(X,Y)\n",
    "        \n",
    "        result.append({\n",
    "            'model_used':model,\n",
    "            'highest score':classifier.best_score_,\n",
    "            'best hyperparameter':classifier.best_params_\n",
    "            \n",
    "        })\n",
    "        \n",
    "    result_dataframe = pd.DataFrame(result, columns=['model_used','highest score','best hyperparameter'])\n",
    "        \n",
    "    return result_dataframe\n",
    "    \n",
    "    "
   ]
  },
  {
   "cell_type": "code",
   "execution_count": 47,
   "id": "ae0b9930",
   "metadata": {},
   "outputs": [
    {
     "name": "stdout",
     "output_type": "stream",
     "text": [
      "LogisticRegression(max_iter=10000)\n",
      "{'C': [1, 5, 10, 20]}\n",
      "SVC()\n",
      "{'kernel': ['linear', 'poly', 'rbf', 'sigmoid'], 'C': [1, 5, 10, 20]}\n",
      "KNeighborsClassifier()\n",
      "{'n_neighbors': [3, 5, 10]}\n",
      "RandomForestClassifier(random_state=0)\n",
      "{'n_estimators': [10, 20, 50, 100]}\n"
     ]
    },
    {
     "data": {
      "text/html": [
       "<div>\n",
       "<style scoped>\n",
       "    .dataframe tbody tr th:only-of-type {\n",
       "        vertical-align: middle;\n",
       "    }\n",
       "\n",
       "    .dataframe tbody tr th {\n",
       "        vertical-align: top;\n",
       "    }\n",
       "\n",
       "    .dataframe thead th {\n",
       "        text-align: right;\n",
       "    }\n",
       "</style>\n",
       "<table border=\"1\" class=\"dataframe\">\n",
       "  <thead>\n",
       "    <tr style=\"text-align: right;\">\n",
       "      <th></th>\n",
       "      <th>model_used</th>\n",
       "      <th>highest score</th>\n",
       "      <th>best hyperparameter</th>\n",
       "    </tr>\n",
       "  </thead>\n",
       "  <tbody>\n",
       "    <tr>\n",
       "      <th>0</th>\n",
       "      <td>LogisticRegression(max_iter=10000)</td>\n",
       "      <td>0.883333</td>\n",
       "      <td>{'C': 1}</td>\n",
       "    </tr>\n",
       "    <tr>\n",
       "      <th>1</th>\n",
       "      <td>SVC()</td>\n",
       "      <td>0.873333</td>\n",
       "      <td>{'C': 1, 'kernel': 'linear'}</td>\n",
       "    </tr>\n",
       "    <tr>\n",
       "      <th>2</th>\n",
       "      <td>KNeighborsClassifier()</td>\n",
       "      <td>0.716667</td>\n",
       "      <td>{'n_neighbors': 10}</td>\n",
       "    </tr>\n",
       "    <tr>\n",
       "      <th>3</th>\n",
       "      <td>RandomForestClassifier(random_state=0)</td>\n",
       "      <td>0.910000</td>\n",
       "      <td>{'n_estimators': 20}</td>\n",
       "    </tr>\n",
       "  </tbody>\n",
       "</table>\n",
       "</div>"
      ],
      "text/plain": [
       "                               model_used  highest score  \\\n",
       "0      LogisticRegression(max_iter=10000)       0.883333   \n",
       "1                                   SVC()       0.873333   \n",
       "2                  KNeighborsClassifier()       0.716667   \n",
       "3  RandomForestClassifier(random_state=0)       0.910000   \n",
       "\n",
       "            best hyperparameter  \n",
       "0                      {'C': 1}  \n",
       "1  {'C': 1, 'kernel': 'linear'}  \n",
       "2           {'n_neighbors': 10}  \n",
       "3          {'n_estimators': 20}  "
      ]
     },
     "execution_count": 47,
     "metadata": {},
     "output_type": "execute_result"
    }
   ],
   "source": [
    "ModelSelection(models_list, model_hyperparameters)"
   ]
  },
  {
   "cell_type": "code",
   "execution_count": null,
   "id": "741b60a6",
   "metadata": {},
   "outputs": [],
   "source": []
  }
 ],
 "metadata": {
  "kernelspec": {
   "display_name": "Python 3 (ipykernel)",
   "language": "python",
   "name": "python3"
  },
  "language_info": {
   "codemirror_mode": {
    "name": "ipython",
    "version": 3
   },
   "file_extension": ".py",
   "mimetype": "text/x-python",
   "name": "python",
   "nbconvert_exporter": "python",
   "pygments_lexer": "ipython3",
   "version": "3.9.12"
  }
 },
 "nbformat": 4,
 "nbformat_minor": 5
}
